{
 "cells": [
  {
   "cell_type": "markdown",
   "metadata": {},
   "source": [
    "**Case Study: push()**"
   ]
  },
  {
   "cell_type": "code",
   "execution_count": 4,
   "metadata": {},
   "outputs": [
    {
     "data": {
      "text/plain": [
       "{ name: \"Mark's Guide to React\", discount: true, price: 0 }"
      ]
     },
     "execution_count": 4,
     "metadata": {},
     "output_type": "execute_result"
    }
   ],
   "source": [
    "reward = {\n",
    "    name: \"Mark's Guide to React\",\n",
    "    discount: true,\n",
    "    price: 0,\n",
    "};"
   ]
  },
  {
   "cell_type": "markdown",
   "metadata": {},
   "source": [
    "Consider a common array mutation: `push()`. The `push()` method changes the original array by adding an item to the end. When you add an item, you’re mutating the original array."
   ]
  },
  {
   "cell_type": "code",
   "execution_count": 5,
   "metadata": {},
   "outputs": [],
   "source": [
    "function addFreeGift(cart) {\n",
    "    if (cart.length > 2) {\n",
    "        cart.push(reward);\n",
    "        return cart;\n",
    "    }\n",
    "    return cart;\n",
    "}"
   ]
  },
  {
   "cell_type": "markdown",
   "metadata": {},
   "source": [
    "Now imagine a function that checks to see if there are too many discounts, and if not, calls the `addFreeGift` function before returning an object:"
   ]
  },
  {
   "cell_type": "code",
   "execution_count": 2,
   "metadata": {},
   "outputs": [],
   "source": [
    "function summarizeCart(cart) {\n",
    "    const discountable = cart.filter(item => item.discount);\n",
    "    if (discountable.length > 1) {\n",
    "        return { error: 'Can only have one discount' };\n",
    "    }\n",
    "    const cartWithReward = addFreeGift(cart);\n",
    "    return {\n",
    "        discounts: discountable.length,\n",
    "        items: cartWithReward.length,\n",
    "        cart: cartWithReward,\n",
    "    };\n",
    "}"
   ]
  },
  {
   "cell_type": "markdown",
   "metadata": {},
   "source": [
    "This will work fine. But imagine that months later a different developer decides to reorganize the function by putting all of the variable declarations at the beginning:"
   ]
  },
  {
   "cell_type": "code",
   "execution_count": 3,
   "metadata": {},
   "outputs": [],
   "source": [
    "function summarizeCart(cart) {\n",
    "    const cartWithReward = addFreeGift(cart);\n",
    "    const discountable = cart.filter(item => item.discount);\n",
    "    if (discountable.length > 1) {\n",
    "        return { error: 'Can only have one discount' };\n",
    "    }\n",
    "    return {\n",
    "        discounts: discountable.length,\n",
    "        items: cartWithReward.length,\n",
    "        cart: cartWithReward,\n",
    "    };\n",
    "}"
   ]
  },
  {
   "cell_type": "markdown",
   "metadata": {},
   "source": [
    "This code now has a bug, and it's all because `addFreeGift` mutates the `cart` array. See if you can figure out what kind of data in `cart` would cause the bug to occur. "
   ]
  },
  {
   "cell_type": "markdown",
   "metadata": {},
   "source": [
    "Here's how to fix the problem by using the spread operator, which uses the contents of the array to create a brand new array:"
   ]
  },
  {
   "cell_type": "code",
   "execution_count": 6,
   "metadata": {},
   "outputs": [],
   "source": [
    "function addFreeGift(cart) {\n",
    "    if (cart.length > 2) {\n",
    "        return [...cart, reward];\n",
    "    }\n",
    "    return cart;\n",
    "}"
   ]
  },
  {
   "cell_type": "markdown",
   "metadata": {},
   "source": [
    "**Case Study: sort()**"
   ]
  },
  {
   "cell_type": "code",
   "execution_count": 11,
   "metadata": {},
   "outputs": [],
   "source": [
    "const staff = [\n",
    "    { name: 'Joe', years: 10 },\n",
    "    { name: 'Theo', years: 5 },\n",
    "    { name: 'Dyan', years: 10 },\n",
    "];"
   ]
  },
  {
   "cell_type": "code",
   "execution_count": 12,
   "metadata": {},
   "outputs": [],
   "source": [
    "function sortByYears(a, b) {\n",
    "    if (a.years === b.years) {\n",
    "        return 0;\n",
    "    }\n",
    "    return a.years - b.years;\n",
    "}\n",
    "\n",
    "const sortByName = (a, b) => {\n",
    "    if (a.name === b.name) {\n",
    "        return 0;\n",
    "    }\n",
    "    return a.name > b.name ? 1 : -1;\n",
    "};"
   ]
  },
  {
   "cell_type": "markdown",
   "metadata": {},
   "source": [
    "When the user clicks a column heading to sort by that column, you call the `sort()` method, which mutates the array:"
   ]
  },
  {
   "cell_type": "code",
   "execution_count": 13,
   "metadata": {},
   "outputs": [
    {
     "data": {
      "text/plain": [
       "[\n",
       "  { name: 'Theo', years: 5 },\n",
       "  { name: 'Joe', years: 10 },\n",
       "  { name: 'Dyan', years: 10 }\n",
       "]"
      ]
     },
     "execution_count": 13,
     "metadata": {},
     "output_type": "execute_result"
    }
   ],
   "source": [
    "staff.sort(sortByYears);"
   ]
  },
  {
   "cell_type": "markdown",
   "metadata": {},
   "source": [
    "Then the user wants to sort by name:"
   ]
  },
  {
   "cell_type": "code",
   "execution_count": 14,
   "metadata": {},
   "outputs": [
    {
     "data": {
      "text/plain": [
       "[\n",
       "  { name: 'Dyan', years: 10 },\n",
       "  { name: 'Joe', years: 10 },\n",
       "  { name: 'Theo', years: 5 }\n",
       "]"
      ]
     },
     "execution_count": 14,
     "metadata": {},
     "output_type": "execute_result"
    }
   ],
   "source": [
    "staff.sort(sortByName);"
   ]
  },
  {
   "cell_type": "markdown",
   "metadata": {},
   "source": [
    "But then, the user wants to sort by years again:"
   ]
  },
  {
   "cell_type": "code",
   "execution_count": 15,
   "metadata": {},
   "outputs": [
    {
     "data": {
      "text/plain": [
       "[\n",
       "  { name: 'Theo', years: 5 },\n",
       "  { name: 'Dyan', years: 10 },\n",
       "  { name: 'Joe', years: 10 }\n",
       "]"
      ]
     },
     "execution_count": 15,
     "metadata": {},
     "output_type": "execute_result"
    }
   ],
   "source": [
    "staff.sort(sortByYears);"
   ]
  },
  {
   "cell_type": "markdown",
   "metadata": {},
   "source": [
    "Notice that the array isn't in the same order as it was after the first `sortByYears`? In a more realistic situation, with a table of hundreds of staff, this can cause users to be confused or doubt the accuracy of your application. "
   ]
  },
  {
   "cell_type": "markdown",
   "metadata": {},
   "source": [
    "To solve this problem, make a copy using the spread operator before sorting:"
   ]
  },
  {
   "cell_type": "code",
   "execution_count": 16,
   "metadata": {},
   "outputs": [
    {
     "data": {
      "text/plain": [
       "[\n",
       "  { name: 'Dyan', years: 10 },\n",
       "  { name: 'Joe', years: 10 },\n",
       "  { name: 'Theo', years: 5 }\n",
       "]"
      ]
     },
     "execution_count": 16,
     "metadata": {},
     "output_type": "execute_result"
    }
   ],
   "source": [
    "[...staff].sort(sortByName);"
   ]
  },
  {
   "cell_type": "markdown",
   "metadata": {},
   "source": [
    "As you’ve just seen, mutations can have unexpected consequences. If you change something in a collection early in the code, you can create a bug much deeper. Mutations may not always cause major headaches, but they do have that potential, so it’s best to avoid them when possible. When you call a function, you should trust that it won’t change any supplied values. Functions that have no side effects are called “pure” functions, and that’s what you should strive to achieve.\n",
    "\n",
    "Plus, a lot of modern JavaScript is functional in style, meaning you’ll need to write code that doesn’t contain side effects and mutations. We'll see this in React when we need to update a component's state."
   ]
  },
  {
   "cell_type": "markdown",
   "metadata": {},
   "source": [
    "### Arrays"
   ]
  },
  {
   "cell_type": "markdown",
   "metadata": {},
   "source": [
    "You can replace a lot of array methods (some of which mutate the array, while others don't) with the spread operator."
   ]
  },
  {
   "cell_type": "code",
   "execution_count": 7,
   "metadata": {},
   "outputs": [],
   "source": [
    "const titles = ['Moby Dick', 'War and Peace'];"
   ]
  },
  {
   "cell_type": "markdown",
   "metadata": {},
   "source": [
    "Copying an array:"
   ]
  },
  {
   "cell_type": "code",
   "execution_count": 9,
   "metadata": {},
   "outputs": [
    {
     "data": {
      "text/plain": [
       "[ 'Moby Dick', 'War and Peace' ]"
      ]
     },
     "execution_count": 9,
     "metadata": {},
     "output_type": "execute_result"
    }
   ],
   "source": [
    "copiedTitles = [...titles];"
   ]
  },
  {
   "cell_type": "markdown",
   "metadata": {},
   "source": [
    "Adding to the beginning of an array:"
   ]
  },
  {
   "cell_type": "code",
   "execution_count": 8,
   "metadata": {},
   "outputs": [
    {
     "data": {
      "text/plain": [
       "[ 'Crime and Punishment', 'Moby Dick', 'War and Peace' ]"
      ]
     },
     "execution_count": 8,
     "metadata": {},
     "output_type": "execute_result"
    }
   ],
   "source": [
    "moreTitles = ['Crime and Punishment', ...titles];"
   ]
  },
  {
   "cell_type": "markdown",
   "metadata": {},
   "source": [
    "Inserting to a particular location of an array:"
   ]
  },
  {
   "cell_type": "code",
   "execution_count": 10,
   "metadata": {},
   "outputs": [
    {
     "data": {
      "text/plain": [
       "[ 'Moby Dick', '1984', 'War and Peace' ]"
      ]
     },
     "execution_count": 10,
     "metadata": {},
     "output_type": "execute_result"
    }
   ],
   "source": [
    "evenMoreTitles = [...titles.slice(0, 1), '1984', ...titles.slice(1)];"
   ]
  },
  {
   "cell_type": "markdown",
   "metadata": {},
   "source": [
    "### Objects"
   ]
  },
  {
   "cell_type": "markdown",
   "metadata": {},
   "source": [
    "The object spread operator works like the array spread operator: the key-values are returned as if in a list. You can add information by placing it either before or after the spread:"
   ]
  },
  {
   "cell_type": "code",
   "execution_count": 17,
   "metadata": {},
   "outputs": [],
   "source": [
    "const book = { title: 'War and Peace', author: 'Leo Tolstoy' };"
   ]
  },
  {
   "cell_type": "code",
   "execution_count": 18,
   "metadata": {},
   "outputs": [
    {
     "data": {
      "text/plain": [
       "{ title: 'War and Peace', author: 'Leo Tolstoy', year: 1894 }"
      ]
     },
     "execution_count": 18,
     "metadata": {},
     "output_type": "execute_result"
    }
   ],
   "source": [
    "bookWithExtra = { ...book, year: 1894 };"
   ]
  },
  {
   "cell_type": "markdown",
   "metadata": {},
   "source": [
    "If you add a value with the same key, it will use whatever value is declared last:"
   ]
  },
  {
   "cell_type": "code",
   "execution_count": 19,
   "metadata": {},
   "outputs": [
    {
     "data": {
      "text/plain": [
       "{ title: 'War & Peace', author: 'Leo Tolstoy' }"
      ]
     },
     "execution_count": 19,
     "metadata": {},
     "output_type": "execute_result"
    }
   ],
   "source": [
    "updatedBook = { ...book, title: 'War & Peace' };"
   ]
  },
  {
   "cell_type": "markdown",
   "metadata": {},
   "source": [
    "**To Do: copying nested objects**"
   ]
  }
 ],
 "metadata": {
  "kernelspec": {
   "display_name": "Javascript (Node.js)",
   "language": "javascript",
   "name": "javascript"
  },
  "language_info": {
   "file_extension": ".js",
   "mimetype": "application/javascript",
   "name": "javascript",
   "version": "12.18.2"
  }
 },
 "nbformat": 4,
 "nbformat_minor": 2
}
