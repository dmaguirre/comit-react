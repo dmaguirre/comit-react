{
 "cells": [
  {
   "cell_type": "markdown",
   "metadata": {},
   "source": [
    "Objects are great when you want to share unchanging structured key-value data, but are not appropriate for dynamic information that is updated frequently or unknown until runtime."
   ]
  },
  {
   "cell_type": "code",
   "execution_count": 1,
   "metadata": {},
   "outputs": [],
   "source": [
    "const colors = {\n",
    "    red: '#d10202',\n",
    "    green: '#19d836',\n",
    "    blue: '#0e33d8'\n",
    "}"
   ]
  },
  {
   "cell_type": "markdown",
   "metadata": {},
   "source": [
    "When a future developer wants to get the proper color red, they don’t need to know a position; they just call it directly: `colors.red`. Alternatively, they can use array syntax: `colors['red']`. This simplicity is why objects are so valuable for retrieving static information."
   ]
  },
  {
   "cell_type": "markdown",
   "metadata": {},
   "source": [
    "The key here is static information. Objects are not good for information that’s continually updated, looped over, altered, or sorted. In those cases, use `Map`. Objects are a path to find information when you know where it will be."
   ]
  },
  {
   "cell_type": "markdown",
   "metadata": {},
   "source": [
    "Config files are often objects because they are set up before runtime and are simple key-value stores of static information."
   ]
  },
  {
   "cell_type": "code",
   "execution_count": 3,
   "metadata": {},
   "outputs": [],
   "source": [
    "const config = {\n",
    "    endpoint: 'http://pragprog.com',\n",
    "    key: 'secretkey',\n",
    "};"
   ]
  },
  {
   "cell_type": "markdown",
   "metadata": {},
   "source": [
    "But static objects can also be defined programmatically. For example, you can build an object in a function and then pass it to another function. The information is collected, sent, and then unpacked in another function. In this way, it’s static because it is not mutated and updated.\n",
    "\n",
    "The trick is that the data is set and then retrieved the same way every time. You are not mutating an existing object; you are creating a new object in each function. And more importantly, you know the key names when you are writing the code. You are not setting the keys using variables. The next\n",
    "function knows in advance what it will be getting:"
   ]
  },
  {
   "cell_type": "code",
   "execution_count": 9,
   "metadata": {},
   "outputs": [],
   "source": [
    "function getBill(item) {\n",
    "    return {\n",
    "        name: item.name,\n",
    "        due: (new Date()).toString(),\n",
    "        total: item.price * 1.05,\n",
    "    };\n",
    "}\n",
    "\n",
    "function displayBill(bill) {\n",
    "    return `Your total ${bill.total} for ${bill.name} is due on ${bill.due}`;\n",
    "}"
   ]
  },
  {
   "cell_type": "code",
   "execution_count": 10,
   "metadata": {},
   "outputs": [
    {
     "data": {
      "text/plain": [
       "{\n",
       "  name: 'Room Cleaning',\n",
       "  due: 'Wed Jul 29 2020 15:02:09 GMT-0600 (Mountain Daylight Time)',\n",
       "  total: 31.5\n",
       "}"
      ]
     },
     "execution_count": 10,
     "metadata": {},
     "output_type": "execute_result"
    }
   ],
   "source": [
    "bill = getBill({ name: 'Room Cleaning', price: 30 });"
   ]
  },
  {
   "cell_type": "code",
   "execution_count": 11,
   "metadata": {},
   "outputs": [
    {
     "data": {
      "text/plain": [
       "'Your total 31.5 for Room Cleaning is due on Wed Jul 29 2020 15:02:09 GMT-0600 (Mountain Daylight Time)'"
      ]
     },
     "execution_count": 11,
     "metadata": {},
     "output_type": "execute_result"
    }
   ],
   "source": [
    "displayBill(bill);"
   ]
  },
  {
   "cell_type": "markdown",
   "metadata": {},
   "source": [
    "In the preceding example, an object is being used to add structure to information passed between objects. Instead of writing `displayBill()` as a function that takes each item as a parameter, you are passing the object, and the function is pulling out the values it needs."
   ]
  },
  {
   "cell_type": "markdown",
   "metadata": {},
   "source": [
    "This is where objects are far superior to other collections. Not only are they quick and clear, but with object destructuring, pulling data from objects is even quicker and easier."
   ]
  },
  {
   "cell_type": "markdown",
   "metadata": {},
   "source": [
    "Notice that the function is creating a new object. It’s setting the information and then immediately retrieving it in a different function. It’s not setting the information repeatedly. If you want to add lots of information to an object programmatically, other collections may be better suited for the task, such as the `Map` object."
   ]
  },
  {
   "cell_type": "markdown",
   "metadata": {},
   "source": [
    "Objects still play a huge role in JavaScript. You’ll use them all the time when you’re sharing information. But remember to keep their usage at a basic level and take a moment to consider other collections before creating an object."
   ]
  }
 ],
 "metadata": {
  "kernelspec": {
   "display_name": "Javascript (Node.js)",
   "language": "javascript",
   "name": "javascript"
  },
  "language_info": {
   "file_extension": ".js",
   "mimetype": "application/javascript",
   "name": "javascript",
   "version": "12.18.2"
  }
 },
 "nbformat": 4,
 "nbformat_minor": 2
}
