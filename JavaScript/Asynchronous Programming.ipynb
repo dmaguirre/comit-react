{
 "cells": [
  {
   "cell_type": "markdown",
   "metadata": {},
   "source": [
    "### Callbacks"
   ]
  },
  {
   "cell_type": "markdown",
   "metadata": {},
   "source": [
    "Before promises, developers used callbacks to handle asynchronous actions. If you requested expenses from a data source, you’d pass a callback function as an argument. After the asynchronous data is returned (or resolved as it is often called) the function would execute the callback. \n",
    "\n",
    "The traditional example is a `setTimeout()` function that takes a callback and executes it after certain number of milliseconds. Use `setTimeout()` as a place holder for any action that doesn’t immediately resolve. For example, think about a function called `getUserPreferences()`, which\n",
    "would fetch data from an API and then pass that data to a callback."
   ]
  },
  {
   "cell_type": "markdown",
   "metadata": {},
   "source": [
    "Because Javascript is asynchronous, you can call other functions before and after the call to `getUserPreferences()` and they’d both resolve before `getUserPreferences()` executes the callback:"
   ]
  },
  {
   "cell_type": "code",
   "execution_count": 5,
   "metadata": {},
   "outputs": [],
   "source": [
    "function getUserPreferences(callback) {\n",
    "    setTimeout(() => {\n",
    "        callback({\n",
    "            theme: 'dusk',\n",
    "        });\n",
    "    }, 1000);\n",
    "}\n",
    "\n",
    "function log(value) {\n",
    "    return console.log(value);\n",
    "}"
   ]
  },
  {
   "cell_type": "code",
   "execution_count": 2,
   "metadata": {},
   "outputs": [
    {
     "name": "stdout",
     "output_type": "stream",
     "text": [
      "starting\n",
      "ending?\n",
      "DUSK\n"
     ]
    }
   ],
   "source": [
    "log('starting');\n",
    "getUserPreferences((preferences) => {\n",
    "    return log(preferences.theme.toUpperCase());\n",
    "});\n",
    "log('ending?');"
   ]
  },
  {
   "cell_type": "markdown",
   "metadata": {},
   "source": [
    "**Case Study: Nested callbacks**"
   ]
  },
  {
   "cell_type": "markdown",
   "metadata": {},
   "source": [
    "The problem with callbacks is that you may have asynchronous functions that call asynchronous functions, that call asynchronous functions, and so on. Eventually you have so many nested callbacks, you find yourself in what's known as “callback hell.”"
   ]
  },
  {
   "cell_type": "markdown",
   "metadata": {},
   "source": [
    "Here's a function that takes a callback, and calls it after calling its own asynchronous function:"
   ]
  },
  {
   "cell_type": "code",
   "execution_count": 3,
   "metadata": {},
   "outputs": [],
   "source": [
    "function getMusic(theme, callback) {\n",
    "    setTimeout(() => {\n",
    "        if (theme === 'dusk') {\n",
    "            return callback({ album: 'music for airports' });\n",
    "        }\n",
    "        return callback({ album: 'kind of blue' });\n",
    "    }, 1000);\n",
    "}"
   ]
  },
  {
   "cell_type": "markdown",
   "metadata": {},
   "source": [
    "So now `getUserPreferences` takes a callback, which itself passes in another callback to `getMusic`:"
   ]
  },
  {
   "cell_type": "code",
   "execution_count": 5,
   "metadata": {},
   "outputs": [
    {
     "name": "stdout",
     "output_type": "stream",
     "text": [
      "music for airports\n"
     ]
    }
   ],
   "source": [
    "getUserPreferences((preferences) => {\n",
    "    return getMusic(preferences.theme, (music) => {\n",
    "        log(music.album);\n",
    "    })\n",
    "})"
   ]
  },
  {
   "cell_type": "markdown",
   "metadata": {},
   "source": [
    "This function is only nested two deep, and it’s already getting hard to read. Things get complicated fast."
   ]
  },
  {
   "cell_type": "markdown",
   "metadata": {},
   "source": [
    "### Promises"
   ]
  },
  {
   "cell_type": "markdown",
   "metadata": {},
   "source": [
    "A promise is an object that takes asynchronous action and calls one of two methods based on the response. If the asynchronous action is successful, or fulfilled, the promise passes the results to a `then()` method. If the action fails, or is rejected, the promise calls the `catch()` method. Both `then()` and `catch()` take a function as an argument, and that can only take a single response argument."
   ]
  },
  {
   "cell_type": "markdown",
   "metadata": {},
   "source": [
    "When you create a promise, you call the `Promise` constructor with two arguments: `resolve()` and `reject()`. `resolve()` is what happens when things go as planned. When `resolve()` is called, the code will execute the function passed to the `then()` method. "
   ]
  },
  {
   "cell_type": "markdown",
   "metadata": {},
   "source": [
    "When you define your `getUserPreferences()` function, you’ll return the promise. When you actually call `getUserPreferences()`, you’ll call either the `then()` or the `catch()` method:"
   ]
  },
  {
   "cell_type": "code",
   "execution_count": 6,
   "metadata": {},
   "outputs": [],
   "source": [
    "function getUserPreferences() {\n",
    "    const preferences = new Promise((resolve, reject) => {\n",
    "        resolve({ theme: 'dusk' });\n",
    "    });\n",
    "    return preferences;\n",
    "}"
   ]
  },
  {
   "cell_type": "code",
   "execution_count": 8,
   "metadata": {},
   "outputs": [
    {
     "name": "stdout",
     "output_type": "stream",
     "text": [
      "dusk\n"
     ]
    }
   ],
   "source": [
    "getUserPreferences()\n",
    "    .then((preferences) => log(preferences.theme))\n",
    "    .catch((error) => log(`Fail: ${error.type}`));"
   ]
  },
  {
   "cell_type": "markdown",
   "metadata": {},
   "source": [
    "Now let's convert `getMusic()` to a promise:"
   ]
  },
  {
   "cell_type": "code",
   "execution_count": 1,
   "metadata": {},
   "outputs": [],
   "source": [
    "function getMusic(theme) {\n",
    "    if (theme === 'dusk') {\n",
    "        return Promise.resolve({ album: 'Music for Airports' });\n",
    "    }\n",
    "    return Promise.resolve({ album: 'Kind of Blue' });\n",
    "}"
   ]
  },
  {
   "cell_type": "markdown",
   "metadata": {},
   "source": [
    "So now when we call `getUserPreferences()` it returns a promise, and then when it resolves, we call `getMusic()`, which returns a promise, and when that promise resolves we call `log()`:"
   ]
  },
  {
   "cell_type": "code",
   "execution_count": 7,
   "metadata": {},
   "outputs": [
    {
     "name": "stdout",
     "output_type": "stream",
     "text": [
      "Music for Airports\n"
     ]
    }
   ],
   "source": [
    "getUserPreferences()\n",
    "    .then((preferences) => getMusic(preferences.theme))\n",
    "    .then((music) => log(music.album))\n",
    "    .catch((error) => log(`Fail: ${error.type}`))"
   ]
  },
  {
   "cell_type": "markdown",
   "metadata": {},
   "source": [
    "**To Do: Promise.all**"
   ]
  },
  {
   "cell_type": "markdown",
   "metadata": {},
   "source": [
    "### Async and Await"
   ]
  },
  {
   "cell_type": "code",
   "execution_count": null,
   "metadata": {},
   "outputs": [],
   "source": []
  }
 ],
 "metadata": {
  "kernelspec": {
   "display_name": "Javascript (Node.js)",
   "language": "javascript",
   "name": "javascript"
  },
  "language_info": {
   "file_extension": ".js",
   "mimetype": "application/javascript",
   "name": "javascript",
   "version": "12.18.2"
  }
 },
 "nbformat": 4,
 "nbformat_minor": 2
}
