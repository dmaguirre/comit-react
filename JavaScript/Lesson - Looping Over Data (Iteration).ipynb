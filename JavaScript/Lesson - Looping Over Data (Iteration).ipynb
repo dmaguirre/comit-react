{
 "cells": [
  {
   "cell_type": "markdown",
   "metadata": {},
   "source": [
    "**Case Study: for loops**"
   ]
  },
  {
   "cell_type": "code",
   "execution_count": 4,
   "metadata": {},
   "outputs": [
    {
     "data": {
      "text/plain": [
       "[ '1.0', 'negotiable', '2.15' ]"
      ]
     },
     "execution_count": 4,
     "metadata": {},
     "output_type": "execute_result"
    }
   ],
   "source": [
    "prices = [ '1.0', 'negotiable', '2.15' ];"
   ]
  },
  {
   "cell_type": "markdown",
   "metadata": {},
   "source": [
    "Consider this function, which converts an array of strings into floating point numbers, but only the values that are actually numbers:"
   ]
  },
  {
   "cell_type": "code",
   "execution_count": 7,
   "metadata": {},
   "outputs": [],
   "source": [
    "function getFormattedPrices(prices) {\n",
    "    const formattedPrices = [];\n",
    "    for (let price of prices) {\n",
    "        const priceFloat = parseFloat(price);\n",
    "        if (priceFloat) {\n",
    "            formattedPrices.push(priceFloat);\n",
    "        }\n",
    "    }\n",
    "    return formattedPrices;\n",
    "}"
   ]
  },
  {
   "cell_type": "code",
   "execution_count": 8,
   "metadata": {},
   "outputs": [
    {
     "data": {
      "text/plain": [
       "[ 1, 2.15 ]"
      ]
     },
     "execution_count": 8,
     "metadata": {},
     "output_type": "execute_result"
    }
   ],
   "source": [
    "getFormattedPrices(prices);"
   ]
  },
  {
   "cell_type": "markdown",
   "metadata": {},
   "source": [
    "Even though this is a simple function, it takes multiple lines and several variable declarations."
   ]
  },
  {
   "cell_type": "markdown",
   "metadata": {},
   "source": [
    "Array methods are a great way to get clean predictable code with no unnecessary\n",
    "data. They can be hard to understand at first, but once you master them you'll find your code better than ever."
   ]
  },
  {
   "cell_type": "code",
   "execution_count": 9,
   "metadata": {},
   "outputs": [
    {
     "data": {
      "text/plain": [
       "[\n",
       "  { name: 'melinda', position: 'designer' },\n",
       "  { name: 'katie', position: 'strategist' },\n",
       "  { name: 'mary', position: 'developer' },\n",
       "  { name: 'justin', position: 'manager' },\n",
       "  { name: 'chris', position: 'developer' }\n",
       "]"
      ]
     },
     "execution_count": 9,
     "metadata": {},
     "output_type": "execute_result"
    }
   ],
   "source": [
    "team = [\n",
    "    { name: 'melinda', position: 'designer' },\n",
    "    { name: 'katie', position: 'strategist' },\n",
    "    { name: 'mary', position: 'developer' },\n",
    "    { name: 'justin', position: 'manager' },\n",
    "    { name: 'chris', position: 'developer' },\n",
    "]"
   ]
  },
  {
   "cell_type": "markdown",
   "metadata": {},
   "source": [
    "The most popular array methods change either the size of the array or the shape of the data in the array. So for this array, it has a size of five objects. Every object in the array has a shape: a `name` and a `position`."
   ]
  },
  {
   "cell_type": "markdown",
   "metadata": {},
   "source": [
    "So this is how we could convert `getFormattedPrices()` to use array methods:"
   ]
  },
  {
   "cell_type": "code",
   "execution_count": 10,
   "metadata": {},
   "outputs": [],
   "source": [
    "function getFormattedPrices(prices) {\n",
    "    return prices\n",
    "        .map((price) => parseFloat(price))\n",
    "        .filter((price) => price);\n",
    "}"
   ]
  },
  {
   "cell_type": "code",
   "execution_count": 11,
   "metadata": {},
   "outputs": [
    {
     "data": {
      "text/plain": [
       "[ 1, 2.15 ]"
      ]
     },
     "execution_count": 11,
     "metadata": {},
     "output_type": "execute_result"
    }
   ],
   "source": [
    "getFormattedPrices(prices);"
   ]
  },
  {
   "cell_type": "markdown",
   "metadata": {},
   "source": [
    "### filter()"
   ]
  },
  {
   "cell_type": "markdown",
   "metadata": {},
   "source": [
    "- **Action**: Changes the size, but not the shape.\n",
    "- **Example**: Get the developers.\n",
    "- **Result**: `[{name: 'mary', position: 'developer'}, {name: 'chris', position:'developer'}]`"
   ]
  },
  {
   "cell_type": "code",
   "execution_count": 12,
   "metadata": {},
   "outputs": [],
   "source": [
    "function isDeveloper(person) {\n",
    "    return person.position === 'developer';\n",
    "}"
   ]
  },
  {
   "cell_type": "markdown",
   "metadata": {},
   "source": [
    "You can pass an existing function as an argument:"
   ]
  },
  {
   "cell_type": "code",
   "execution_count": 13,
   "metadata": {},
   "outputs": [
    {
     "data": {
      "text/plain": [
       "[\n",
       "  { name: 'mary', position: 'developer' },\n",
       "  { name: 'chris', position: 'developer' }\n",
       "]"
      ]
     },
     "execution_count": 13,
     "metadata": {},
     "output_type": "execute_result"
    }
   ],
   "source": [
    "team.filter(isDeveloper);"
   ]
  },
  {
   "cell_type": "markdown",
   "metadata": {},
   "source": [
    "Or create a new function to pass as an argument: "
   ]
  },
  {
   "cell_type": "code",
   "execution_count": 14,
   "metadata": {},
   "outputs": [
    {
     "data": {
      "text/plain": [
       "[\n",
       "  { name: 'mary', position: 'developer' },\n",
       "  { name: 'chris', position: 'developer' }\n",
       "]"
      ]
     },
     "execution_count": 14,
     "metadata": {},
     "output_type": "execute_result"
    }
   ],
   "source": [
    "team.filter((person) => person.position === 'developer');"
   ]
  },
  {
   "cell_type": "markdown",
   "metadata": {},
   "source": [
    "### map()"
   ]
  },
  {
   "cell_type": "markdown",
   "metadata": {},
   "source": [
    "- **Action**: Changes the shape, but not the size.\n",
    "- **Example**: Get the name of everyone on the team.\n",
    "- **Result**: `['melinda', 'katie', 'mary', 'justin', 'chris']`"
   ]
  },
  {
   "cell_type": "code",
   "execution_count": 15,
   "metadata": {},
   "outputs": [
    {
     "data": {
      "text/plain": [
       "[ 'melinda', 'katie', 'mary', 'justin', 'chris' ]"
      ]
     },
     "execution_count": 15,
     "metadata": {},
     "output_type": "execute_result"
    }
   ],
   "source": [
    "team.map((person) => person.name)"
   ]
  },
  {
   "cell_type": "markdown",
   "metadata": {},
   "source": [
    "You can use `map` with the Map data type by first using the spread operator:"
   ]
  },
  {
   "cell_type": "code",
   "execution_count": 16,
   "metadata": {},
   "outputs": [
    {
     "data": {
      "text/plain": [
       "Map {\n",
       "  1647482 => { name: 'melinda', position: 'designer' },\n",
       "  2474043 => { name: 'katie', position: 'strategist' },\n",
       "  3242536 => { name: 'mary', position: 'developer' },\n",
       "  4522356 => { name: 'justin', position: 'manager' },\n",
       "  5248092 => { name: 'chris', position: 'developer' }\n",
       "}"
      ]
     },
     "execution_count": 16,
     "metadata": {},
     "output_type": "execute_result"
    }
   ],
   "source": [
    "teamMap = new Map()\n",
    "    .set(1647482, { name: 'melinda', position: 'designer' })\n",
    "    .set(2474043, { name: 'katie', position: 'strategist' })\n",
    "    .set(3242536, { name: 'mary', position: 'developer' })\n",
    "    .set(4522356, { name: 'justin', position: 'manager' })\n",
    "    .set(5248092, { name: 'chris', position: 'developer' });"
   ]
  },
  {
   "cell_type": "code",
   "execution_count": 18,
   "metadata": {},
   "outputs": [
    {
     "data": {
      "text/plain": [
       "[\n",
       "  'Employee ID 1647482: melinda, designer',\n",
       "  'Employee ID 2474043: katie, strategist',\n",
       "  'Employee ID 3242536: mary, developer',\n",
       "  'Employee ID 4522356: justin, manager',\n",
       "  'Employee ID 5248092: chris, developer'\n",
       "]"
      ]
     },
     "execution_count": 18,
     "metadata": {},
     "output_type": "execute_result"
    }
   ],
   "source": [
    "[...teamMap].map(([id, person]) => {\n",
    "    return `Employee ID ${id}: ${person.name}, ${person.position}`;\n",
    "});"
   ]
  },
  {
   "cell_type": "markdown",
   "metadata": {},
   "source": [
    "### find()"
   ]
  },
  {
   "cell_type": "markdown",
   "metadata": {},
   "source": [
    "- **Action**: Changes the size to exactly one, but not the shape. Does *not* return an array\n",
    "- **Example**: Get the manager.\n",
    "- **Result**: `{ name: 'justin', position: 'manager' }`"
   ]
  },
  {
   "cell_type": "code",
   "execution_count": 19,
   "metadata": {},
   "outputs": [
    {
     "data": {
      "text/plain": [
       "{ name: 'justin', position: 'manager' }"
      ]
     },
     "execution_count": 19,
     "metadata": {},
     "output_type": "execute_result"
    }
   ],
   "source": [
    "team.find((person) => person.position === 'manager');"
   ]
  },
  {
   "cell_type": "markdown",
   "metadata": {},
   "source": [
    "### Method Chaining"
   ]
  },
  {
   "cell_type": "code",
   "execution_count": 6,
   "metadata": {},
   "outputs": [
    {
     "data": {
      "text/plain": [
       "false"
      ]
     },
     "execution_count": 6,
     "metadata": {},
     "output_type": "execute_result"
    }
   ],
   "source": [
    "someData\n",
    "    .filter((num) => num % 2 === 0) // returns [ 6, 4, 2 ]\n",
    "    .map((num) => num * 2) // returns [ 12, 8, 4 ]\n",
    "    .every((num) => num > 10) // returns false"
   ]
  },
  {
   "cell_type": "markdown",
   "metadata": {},
   "source": [
    "### Reduce"
   ]
  },
  {
   "cell_type": "code",
   "execution_count": 7,
   "metadata": {},
   "outputs": [
    {
     "data": {
      "text/plain": [
       "32400"
      ]
     },
     "execution_count": 7,
     "metadata": {},
     "output_type": "execute_result"
    }
   ],
   "source": [
    "someData.reduce(function(accumulator, num) {\n",
    "    return accumulator * num\n",
    "}, 5);"
   ]
  },
  {
   "cell_type": "markdown",
   "metadata": {},
   "source": [
    "### forEach"
   ]
  },
  {
   "cell_type": "code",
   "execution_count": 8,
   "metadata": {},
   "outputs": [
    {
     "name": "stdout",
     "output_type": "stream",
     "text": [
      "18\n",
      "27\n",
      "12\n",
      "9\n",
      "15\n",
      "6\n"
     ]
    }
   ],
   "source": [
    "someData.forEach(function(num) {\n",
    "    console.log(num * 3)\n",
    "})"
   ]
  },
  {
   "cell_type": "markdown",
   "metadata": {},
   "source": [
    "### for of"
   ]
  },
  {
   "cell_type": "markdown",
   "metadata": {},
   "source": [
    "You can use for-of to loop over arrays:"
   ]
  },
  {
   "cell_type": "code",
   "execution_count": 9,
   "metadata": {},
   "outputs": [
    {
     "name": "stdout",
     "output_type": "stream",
     "text": [
      "18\n",
      "27\n",
      "12\n",
      "9\n",
      "15\n",
      "6\n"
     ]
    }
   ],
   "source": [
    "for (const num of someData) {\n",
    "    console.log(num * 3)\n",
    "}"
   ]
  },
  {
   "cell_type": "markdown",
   "metadata": {},
   "source": [
    "You can use it to loop over maps. The item you get from the iterator is a pair of the key-value:"
   ]
  },
  {
   "cell_type": "code",
   "execution_count": 12,
   "metadata": {},
   "outputs": [
    {
     "data": {
      "text/plain": [
       "Map {\n",
       "  'breed' => 'labrador',\n",
       "  'size' => 'large',\n",
       "  'color' => 'chocolate'\n",
       "}"
      ]
     },
     "execution_count": 12,
     "metadata": {},
     "output_type": "execute_result"
    }
   ],
   "source": [
    "filters = new Map()\n",
    "    .set('breed', 'labrador')\n",
    "    .set('size', 'large')\n",
    "    .set('color', 'chocolate');"
   ]
  },
  {
   "cell_type": "code",
   "execution_count": 13,
   "metadata": {},
   "outputs": [
    {
     "name": "stdout",
     "output_type": "stream",
     "text": [
      "[ 'breed', 'labrador' ]\n",
      "[ 'size', 'large' ]\n",
      "[ 'color', 'chocolate' ]\n"
     ]
    }
   ],
   "source": [
    "for (const entry of filters) {\n",
    "    console.log(entry);\n",
    "}"
   ]
  },
  {
   "cell_type": "markdown",
   "metadata": {},
   "source": [
    "You can use it to loop over sets:"
   ]
  },
  {
   "cell_type": "code",
   "execution_count": 10,
   "metadata": {},
   "outputs": [
    {
     "data": {
      "text/plain": [
       "Set { 6, 9, 4, 3, 5, 2 }"
      ]
     },
     "execution_count": 10,
     "metadata": {},
     "output_type": "execute_result"
    }
   ],
   "source": [
    "dataSet = new Set(someData);"
   ]
  },
  {
   "cell_type": "code",
   "execution_count": 11,
   "metadata": {},
   "outputs": [
    {
     "name": "stdout",
     "output_type": "stream",
     "text": [
      "18\n",
      "27\n",
      "12\n",
      "9\n",
      "15\n",
      "6\n"
     ]
    }
   ],
   "source": [
    "for (const num of someData) {\n",
    "    console.log(num * 3);\n",
    "}"
   ]
  },
  {
   "cell_type": "markdown",
   "metadata": {},
   "source": [
    "### for in"
   ]
  },
  {
   "cell_type": "markdown",
   "metadata": {},
   "source": [
    "Don't **ever** use \"for in\" loops"
   ]
  }
 ],
 "metadata": {
  "kernelspec": {
   "display_name": "Javascript (Node.js)",
   "language": "javascript",
   "name": "javascript"
  },
  "language_info": {
   "file_extension": ".js",
   "mimetype": "application/javascript",
   "name": "javascript",
   "version": "12.18.2"
  }
 },
 "nbformat": 4,
 "nbformat_minor": 2
}
