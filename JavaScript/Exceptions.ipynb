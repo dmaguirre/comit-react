{
 "cells": [
  {
   "cell_type": "code",
   "execution_count": 2,
   "metadata": {},
   "outputs": [],
   "source": [
    "let data"
   ]
  },
  {
   "cell_type": "code",
   "execution_count": 7,
   "metadata": {},
   "outputs": [
    {
     "name": "stdout",
     "output_type": "stream",
     "text": [
      "Cannot read property 'key' of undefined\n",
      "Made it to end\n"
     ]
    }
   ],
   "source": [
    "try {\n",
    "    data.key    \n",
    "} catch (error) {\n",
    "    console.log(error.message)\n",
    "} finally {\n",
    "    console.log('Made it to end')\n",
    "}"
   ]
  },
  {
   "cell_type": "code",
   "execution_count": 8,
   "metadata": {},
   "outputs": [],
   "source": [
    "class SpecificError extends Error {\n",
    "    \n",
    "}"
   ]
  },
  {
   "cell_type": "code",
   "execution_count": 12,
   "metadata": {},
   "outputs": [],
   "source": [
    "let x = 5;"
   ]
  },
  {
   "cell_type": "code",
   "execution_count": 13,
   "metadata": {},
   "outputs": [
    {
     "name": "stdout",
     "output_type": "stream",
     "text": [
      "Some other error: 5\n",
      "\n",
      "Made it to end\n"
     ]
    }
   ],
   "source": [
    "try {\n",
    "    throw new TypeError();\n",
    "} catch (error) {\n",
    "    if (error instanceof SpecificError) {\n",
    "        console.log('Specific Error was raised')\n",
    "    } else {\n",
    "        console.log(`Some other error: ${x}`)\n",
    "    }\n",
    "    console.log(error.message)\n",
    "} finally {\n",
    "    console.log('Made it to end')\n",
    "}"
   ]
  },
  {
   "cell_type": "code",
   "execution_count": null,
   "metadata": {},
   "outputs": [],
   "source": []
  }
 ],
 "metadata": {
  "kernelspec": {
   "display_name": "Javascript (Node.js)",
   "language": "javascript",
   "name": "javascript"
  },
  "language_info": {
   "file_extension": ".js",
   "mimetype": "application/javascript",
   "name": "javascript",
   "version": "12.18.2"
  }
 },
 "nbformat": 4,
 "nbformat_minor": 2
}
