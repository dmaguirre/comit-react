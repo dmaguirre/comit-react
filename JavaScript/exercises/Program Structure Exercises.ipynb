{
 "cells": [
  {
   "cell_type": "markdown",
   "metadata": {},
   "source": [
    "### Looping a Triangle"
   ]
  },
  {
   "cell_type": "code",
   "execution_count": 1,
   "metadata": {},
   "outputs": [
    {
     "name": "stdout",
     "output_type": "stream",
     "text": [
      "#\n",
      "##\n",
      "###\n",
      "####\n",
      "#####\n",
      "######\n",
      "#######\n"
     ]
    }
   ],
   "source": [
    "let output = ''\n",
    "for (let x = 0; x < 7; x++) {\n",
    "    output += '#'\n",
    "    console.log(output)\n",
    "}"
   ]
  },
  {
   "cell_type": "markdown",
   "metadata": {},
   "source": [
    "### FizzBuzz"
   ]
  },
  {
   "cell_type": "markdown",
   "metadata": {},
   "source": [
    "Write a program that uses console.log to print all the numbers from 1 to 100,\n",
    "with two exceptions. For numbers divisible by 3, print \"Fizz\" instead of the\n",
    "number, and for numbers divisible by 5 (and not 3), print \"Buzz\" instead.\n",
    "When you have that working, modify your program to print \"FizzBuzz\" for\n",
    "numbers that are divisible by both 3 and 5 (and still print \"Fizz\" or \"Buzz\"\n",
    "for numbers divisible by only one of those).\n",
    "(This is actually an interview question that has been claimed to weed out\n",
    "a significant percentage of programmer candidates. So if you solved it, your\n",
    "labor market value just went up.)"
   ]
  },
  {
   "cell_type": "code",
   "execution_count": 2,
   "metadata": {},
   "outputs": [
    {
     "name": "stdout",
     "output_type": "stream",
     "text": [
      "1\n",
      "2\n",
      "Fizz\n",
      "4\n",
      "Buzz\n",
      "Fizz\n",
      "7\n",
      "8\n",
      "Fizz\n",
      "Buzz\n",
      "11\n",
      "Fizz\n",
      "13\n",
      "14\n",
      "FizzBuzz\n",
      "16\n",
      "17\n",
      "Fizz\n",
      "19\n",
      "Buzz\n",
      "Fizz\n",
      "22\n",
      "23\n",
      "Fizz\n",
      "Buzz\n",
      "26\n",
      "Fizz\n",
      "28\n",
      "29\n",
      "FizzBuzz\n",
      "31\n",
      "32\n",
      "Fizz\n",
      "34\n",
      "Buzz\n",
      "Fizz\n",
      "37\n",
      "38\n",
      "Fizz\n",
      "Buzz\n",
      "41\n",
      "Fizz\n",
      "43\n",
      "44\n",
      "FizzBuzz\n",
      "46\n",
      "47\n",
      "Fizz\n",
      "49\n",
      "Buzz\n",
      "Fizz\n",
      "52\n",
      "53\n",
      "Fizz\n",
      "Buzz\n",
      "56\n",
      "Fizz\n",
      "58\n",
      "59\n",
      "FizzBuzz\n",
      "61\n",
      "62\n",
      "Fizz\n",
      "64\n",
      "Buzz\n",
      "Fizz\n",
      "67\n",
      "68\n",
      "Fizz\n",
      "Buzz\n",
      "71\n",
      "Fizz\n",
      "73\n",
      "74\n",
      "FizzBuzz\n",
      "76\n",
      "77\n",
      "Fizz\n",
      "79\n",
      "Buzz\n",
      "Fizz\n",
      "82\n",
      "83\n",
      "Fizz\n",
      "Buzz\n",
      "86\n",
      "Fizz\n",
      "88\n",
      "89\n",
      "FizzBuzz\n",
      "91\n",
      "92\n",
      "Fizz\n",
      "94\n",
      "Buzz\n",
      "Fizz\n",
      "97\n",
      "98\n",
      "Fizz\n",
      "Buzz\n"
     ]
    }
   ],
   "source": [
    "for (let x = 1; x <= 100; x++) {\n",
    "    if (x % 3 === 0 && x % 5 === 0) {\n",
    "        console.log('FizzBuzz')\n",
    "    } else if (x % 3 === 0) {\n",
    "        console.log('Fizz')\n",
    "    } else if (x % 5 === 0) {\n",
    "        console.log('Buzz')\n",
    "    } else {\n",
    "        console.log(x)\n",
    "    }\n",
    "}"
   ]
  },
  {
   "cell_type": "markdown",
   "metadata": {},
   "source": [
    "### Chessboard"
   ]
  },
  {
   "cell_type": "markdown",
   "metadata": {},
   "source": [
    "Write a program that creates a string that represents an 8×8 grid, using newline\n",
    "characters to separate lines. At each position of the grid there is either a space\n",
    "or a \"#\" character. The characters should form a chessboard.\n",
    "\n",
    "When you have a program that generates this pattern, define a binding size\n",
    "= 8 and change the program so that it works for any size, outputting a grid\n",
    "of the given width and height."
   ]
  },
  {
   "cell_type": "code",
   "execution_count": 5,
   "metadata": {},
   "outputs": [
    {
     "data": {
      "text/plain": [
       "8"
      ]
     },
     "execution_count": 5,
     "metadata": {},
     "output_type": "execute_result"
    }
   ],
   "source": [
    "size = 8"
   ]
  },
  {
   "cell_type": "code",
   "execution_count": 6,
   "metadata": {},
   "outputs": [
    {
     "name": "stdout",
     "output_type": "stream",
     "text": [
      " # # # #\n",
      "# # # # \n",
      " # # # #\n",
      "# # # # \n",
      " # # # #\n",
      "# # # # \n",
      " # # # #\n",
      "# # # # \n",
      "\n"
     ]
    }
   ],
   "source": [
    "chessboard = ''\n",
    "for (let r = 0; r < size; r++) {\n",
    "    for (let c = 0; c < size; c++) {\n",
    "        let char\n",
    "        if (r % 2 === 0) {\n",
    "            if (c % 2 === 0) {\n",
    "                char = ' '\n",
    "            } else {\n",
    "                char = '#'\n",
    "            }\n",
    "        } else {\n",
    "            if (c % 2 === 0) {\n",
    "                char = '#'\n",
    "            } else {\n",
    "                char = ' '\n",
    "            }\n",
    "        }\n",
    "        chessboard += char\n",
    "    }\n",
    "    chessboard += '\\n'\n",
    "}\n",
    "console.log(chessboard)"
   ]
  }
 ],
 "metadata": {
  "kernelspec": {
   "display_name": "Javascript (Node.js)",
   "language": "javascript",
   "name": "javascript"
  },
  "language_info": {
   "file_extension": ".js",
   "mimetype": "application/javascript",
   "name": "javascript",
   "version": "12.18.2"
  }
 },
 "nbformat": 4,
 "nbformat_minor": 2
}
