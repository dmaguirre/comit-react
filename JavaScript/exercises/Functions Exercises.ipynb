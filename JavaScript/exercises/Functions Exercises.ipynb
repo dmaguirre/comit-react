{
 "cells": [
  {
   "cell_type": "markdown",
   "metadata": {},
   "source": [
    "### Minimum"
   ]
  },
  {
   "cell_type": "markdown",
   "metadata": {},
   "source": [
    "The previous chapter introduced the standard function Math.min that returns\n",
    "its smallest argument. We can build something like that now. Write a function\n",
    "min that takes two arguments and returns their minimum."
   ]
  },
  {
   "cell_type": "code",
   "execution_count": 1,
   "metadata": {},
   "outputs": [],
   "source": [
    "function minimum(a, b) {\n",
    "    return a <= b ? a : b\n",
    "}"
   ]
  },
  {
   "cell_type": "code",
   "execution_count": 2,
   "metadata": {},
   "outputs": [
    {
     "data": {
      "text/plain": [
       "2"
      ]
     },
     "execution_count": 2,
     "metadata": {},
     "output_type": "execute_result"
    }
   ],
   "source": [
    "minimum(2, 7)"
   ]
  },
  {
   "cell_type": "code",
   "execution_count": 4,
   "metadata": {},
   "outputs": [
    {
     "data": {
      "text/plain": [
       "3"
      ]
     },
     "execution_count": 4,
     "metadata": {},
     "output_type": "execute_result"
    }
   ],
   "source": [
    "minimum(4, 3)"
   ]
  },
  {
   "cell_type": "code",
   "execution_count": 5,
   "metadata": {},
   "outputs": [
    {
     "data": {
      "text/plain": [
       "5"
      ]
     },
     "execution_count": 5,
     "metadata": {},
     "output_type": "execute_result"
    }
   ],
   "source": [
    "minimum(5, 5)"
   ]
  },
  {
   "cell_type": "markdown",
   "metadata": {},
   "source": [
    "### Recursion"
   ]
  },
  {
   "cell_type": "markdown",
   "metadata": {},
   "source": [
    "We’ve seen that % (the remainder operator) can be used to test whether a\n",
    "number is even or odd by using % 2 to see whether it’s divisible by two. Here’s\n",
    "another way to define whether a positive whole number is even or odd:\n",
    "- Zero is even.\n",
    "- One is odd.\n",
    "- For any other number N, its evenness is the same as N - 2.\n",
    "\n",
    "Define a recursive function isEven corresponding to this description. The\n",
    "function should accept a single parameter (a positive, whole number) and return\n",
    "a Boolean.\n",
    "\n",
    "Test it on 50 and 75. See how it behaves on -1. Why? Can you think of a\n",
    "way to fix this?"
   ]
  },
  {
   "cell_type": "code",
   "execution_count": 1,
   "metadata": {},
   "outputs": [],
   "source": [
    "function isEven(num) {\n",
    "    if (num === 0) {\n",
    "        return true\n",
    "    } else if (num === 1) {\n",
    "        return false\n",
    "    }\n",
    "    if (num < 0) {\n",
    "        return isEven(num + 2)\n",
    "    }\n",
    "    return isEven(num - 2)\n",
    "}"
   ]
  },
  {
   "cell_type": "code",
   "execution_count": 2,
   "metadata": {},
   "outputs": [
    {
     "data": {
      "text/plain": [
       "true"
      ]
     },
     "execution_count": 2,
     "metadata": {},
     "output_type": "execute_result"
    }
   ],
   "source": [
    "isEven(50)"
   ]
  },
  {
   "cell_type": "code",
   "execution_count": 3,
   "metadata": {},
   "outputs": [
    {
     "data": {
      "text/plain": [
       "false"
      ]
     },
     "execution_count": 3,
     "metadata": {},
     "output_type": "execute_result"
    }
   ],
   "source": [
    "isEven(75)"
   ]
  },
  {
   "cell_type": "code",
   "execution_count": 4,
   "metadata": {},
   "outputs": [
    {
     "data": {
      "text/plain": [
       "false"
      ]
     },
     "execution_count": 4,
     "metadata": {},
     "output_type": "execute_result"
    }
   ],
   "source": [
    "isEven(-1)"
   ]
  },
  {
   "cell_type": "code",
   "execution_count": 5,
   "metadata": {},
   "outputs": [
    {
     "data": {
      "text/plain": [
       "true"
      ]
     },
     "execution_count": 5,
     "metadata": {},
     "output_type": "execute_result"
    }
   ],
   "source": [
    "isEven(-2)"
   ]
  },
  {
   "cell_type": "markdown",
   "metadata": {},
   "source": [
    "### Bean Counting"
   ]
  },
  {
   "cell_type": "markdown",
   "metadata": {},
   "source": [
    "You can get the Nth character, or letter, from a string by writing \"string\"[N].\n",
    "The returned value will be a string containing only one character (for example,\n",
    "\"b\"). The first character has position 0, which causes the last one to be found at\n",
    "position string.length - 1. In other words, a two-character string has length\n",
    "2, and its characters have positions 0 and 1.\n",
    "\n",
    "Write a function countBs that takes a string as its only argument and returns\n",
    "a number that indicates how many uppercase “B” characters there are in the\n",
    "string.\n",
    "\n",
    "Next, write a function called countChar that behaves like countBs, except\n",
    "it takes a second argument that indicates the character that is to be counted\n",
    "(rather than counting only uppercase “B” characters). Rewrite countBs to\n",
    "make use of this new function."
   ]
  },
  {
   "cell_type": "code",
   "execution_count": 6,
   "metadata": {},
   "outputs": [],
   "source": [
    "function countChar(string, targetChar) {\n",
    "    let count = 0\n",
    "    for (let char of string) {\n",
    "        if (char === targetChar) {\n",
    "            count += 1\n",
    "        }\n",
    "    }\n",
    "    return count\n",
    "}"
   ]
  },
  {
   "cell_type": "code",
   "execution_count": 7,
   "metadata": {},
   "outputs": [
    {
     "data": {
      "text/plain": [
       "'Be the best Burger King in Bermuda'"
      ]
     },
     "execution_count": 7,
     "metadata": {},
     "output_type": "execute_result"
    }
   ],
   "source": [
    "text = 'Be the best Burger King in Bermuda'"
   ]
  },
  {
   "cell_type": "code",
   "execution_count": 8,
   "metadata": {},
   "outputs": [
    {
     "data": {
      "text/plain": [
       "3"
      ]
     },
     "execution_count": 8,
     "metadata": {},
     "output_type": "execute_result"
    }
   ],
   "source": [
    "countChar(text, 'B')"
   ]
  },
  {
   "cell_type": "code",
   "execution_count": 9,
   "metadata": {},
   "outputs": [
    {
     "data": {
      "text/plain": [
       "1"
      ]
     },
     "execution_count": 9,
     "metadata": {},
     "output_type": "execute_result"
    }
   ],
   "source": [
    "countChar(text, 'K')"
   ]
  },
  {
   "cell_type": "code",
   "execution_count": 10,
   "metadata": {},
   "outputs": [
    {
     "data": {
      "text/plain": [
       "5"
      ]
     },
     "execution_count": 10,
     "metadata": {},
     "output_type": "execute_result"
    }
   ],
   "source": [
    "countChar(text, 'e')"
   ]
  }
 ],
 "metadata": {
  "kernelspec": {
   "display_name": "Javascript (Node.js)",
   "language": "javascript",
   "name": "javascript"
  },
  "language_info": {
   "file_extension": ".js",
   "mimetype": "application/javascript",
   "name": "javascript",
   "version": "12.18.2"
  }
 },
 "nbformat": 4,
 "nbformat_minor": 2
}
