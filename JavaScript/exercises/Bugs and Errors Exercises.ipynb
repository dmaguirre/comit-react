{
 "cells": [
  {
   "cell_type": "markdown",
   "metadata": {},
   "source": [
    "### Retry"
   ]
  },
  {
   "cell_type": "markdown",
   "metadata": {},
   "source": [
    "Say you have a function primitiveMultiply that in 20 percent of cases multiplies\n",
    "two numbers and in the other 80 percent of cases raises an exception\n",
    "of type MultiplicatorUnitFailure. Write a function that wraps this clunky\n",
    "function and just keeps trying until a call succeeds, after which it returns the\n",
    "result.\n",
    "\n",
    "Make sure you handle only the exceptions you are trying to handle."
   ]
  },
  {
   "cell_type": "code",
   "execution_count": 1,
   "metadata": {},
   "outputs": [],
   "source": [
    "function retryPrimitiveMultiply(x, y) {\n",
    "    while (true) {\n",
    "        try {\n",
    "            return primitiveMultiply(x, y);\n",
    "        } catch (error) {\n",
    "            if (error instanceof MultiplicatorUnitFailure) {\n",
    "                continue;\n",
    "            }\n",
    "            throw error;\n",
    "        }\n",
    "    }\n",
    "}"
   ]
  },
  {
   "cell_type": "markdown",
   "metadata": {},
   "source": [
    "### The Locked Box"
   ]
  },
  {
   "cell_type": "markdown",
   "metadata": {},
   "source": [
    "Consider the following (rather contrived) object:"
   ]
  },
  {
   "cell_type": "code",
   "execution_count": 2,
   "metadata": {},
   "outputs": [],
   "source": [
    "const box = {\n",
    "    locked: true,\n",
    "    unlock() { this.locked = false; },\n",
    "    lock() { this.locked = true; },\n",
    "    _content: [],\n",
    "    get content() {\n",
    "        if (this.locked) throw new Error(\"Locked!\");\n",
    "        return this._content;\n",
    "    }\n",
    "};"
   ]
  },
  {
   "cell_type": "markdown",
   "metadata": {},
   "source": [
    "It is a box with a lock. There is an array in the box, but you can get at it only\n",
    "when the box is unlocked. Directly accessing the private `_content` property is\n",
    "forbidden.\n",
    "\n",
    "Write a function called withBoxUnlocked that takes a function value as argument,\n",
    "unlocks the box, runs the function, and then ensures that the box\n",
    "is locked again before returning, regardless of whether the argument function\n",
    "returned normally or threw an exception."
   ]
  },
  {
   "cell_type": "code",
   "execution_count": 4,
   "metadata": {},
   "outputs": [],
   "source": [
    "function withBoxUnlocked(func) {\n",
    "    try {\n",
    "        box.unlock();\n",
    "        func();\n",
    "    } catch (error) {\n",
    "        throw error;\n",
    "    } finally {\n",
    "        box.lock();\n",
    "        console.log('Locked box');\n",
    "    }\n",
    "}"
   ]
  },
  {
   "cell_type": "code",
   "execution_count": 5,
   "metadata": {},
   "outputs": [
    {
     "data": {
      "text/plain": [
       "[Function: func]"
      ]
     },
     "execution_count": 5,
     "metadata": {},
     "output_type": "execute_result"
    }
   ],
   "source": [
    "func = () => { throw new Error('testing error') };"
   ]
  },
  {
   "cell_type": "code",
   "execution_count": 6,
   "metadata": {},
   "outputs": [
    {
     "name": "stdout",
     "output_type": "stream",
     "text": [
      "Locked box\n"
     ]
    },
    {
     "ename": "Error",
     "evalue": "testing error",
     "output_type": "error",
     "traceback": [
      "evalmachine.<anonymous>:6",
      "        throw error;",
      "        ^",
      "",
      "Error: testing error",
      "    at func (evalmachine.<anonymous>:1:22)",
      "    at withBoxUnlocked (evalmachine.<anonymous>:4:9)",
      "    at evalmachine.<anonymous>:1:1",
      "    at Script.runInThisContext (vm.js:120:20)",
      "    at Object.runInThisContext (vm.js:311:38)",
      "    at run ([eval]:1054:15)",
      "    at onRunRequest ([eval]:888:18)",
      "    at onMessage ([eval]:848:13)",
      "    at process.emit (events.js:315:20)",
      "    at emit (internal/child_process.js:876:12)"
     ]
    }
   ],
   "source": [
    "withBoxUnlocked(func)"
   ]
  },
  {
   "cell_type": "code",
   "execution_count": 7,
   "metadata": {},
   "outputs": [
    {
     "data": {
      "text/plain": [
       "true"
      ]
     },
     "execution_count": 7,
     "metadata": {},
     "output_type": "execute_result"
    }
   ],
   "source": [
    "box.locked"
   ]
  }
 ],
 "metadata": {
  "kernelspec": {
   "display_name": "Javascript (Node.js)",
   "language": "javascript",
   "name": "javascript"
  },
  "language_info": {
   "file_extension": ".js",
   "mimetype": "application/javascript",
   "name": "javascript",
   "version": "12.18.2"
  }
 },
 "nbformat": 4,
 "nbformat_minor": 2
}
