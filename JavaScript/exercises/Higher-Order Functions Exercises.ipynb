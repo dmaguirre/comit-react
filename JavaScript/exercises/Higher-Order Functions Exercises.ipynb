{
 "cells": [
  {
   "cell_type": "markdown",
   "metadata": {},
   "source": [
    "### Flattening"
   ]
  },
  {
   "cell_type": "markdown",
   "metadata": {},
   "source": [
    "Use the reduce method in combination with the concat method to “flatten”\n",
    "an array of arrays into a single array that has all the elements of the original\n",
    "arrays."
   ]
  },
  {
   "cell_type": "code",
   "execution_count": 17,
   "metadata": {},
   "outputs": [],
   "source": [
    "function flatten(arrays) {\n",
    "    return arrays.reduce((result, array) => result.concat(array), [])    \n",
    "}"
   ]
  },
  {
   "cell_type": "code",
   "execution_count": 18,
   "metadata": {},
   "outputs": [],
   "source": [
    "let arrays = [[1, 2, 3], [4, 5], [6], [7, 8, 9]]"
   ]
  },
  {
   "cell_type": "code",
   "execution_count": 19,
   "metadata": {},
   "outputs": [
    {
     "data": {
      "text/plain": [
       "[\n",
       "  1, 2, 3, 4, 5,\n",
       "  6, 7, 8, 9\n",
       "]"
      ]
     },
     "execution_count": 19,
     "metadata": {},
     "output_type": "execute_result"
    }
   ],
   "source": [
    "flatten(arrays)"
   ]
  },
  {
   "cell_type": "markdown",
   "metadata": {},
   "source": [
    "### Your Own Loop"
   ]
  },
  {
   "cell_type": "markdown",
   "metadata": {},
   "source": [
    "Write a higher-order function loop that provides something like a for loop\n",
    "statement. It takes a value, a test function, an update function, and a body\n",
    "function. Each iteration, it first runs the test function on the current loop value\n",
    "and stops if that returns false. Then it calls the body function, giving it the\n",
    "current value. Finally, it calls the update function to create a new value and\n",
    "starts from the beginning.\n",
    "When defining the function, you can use a regular loop to do the actual\n",
    "looping."
   ]
  },
  {
   "cell_type": "markdown",
   "metadata": {},
   "source": [
    "*Does anyone know what the hell this question is talking about?*"
   ]
  },
  {
   "cell_type": "code",
   "execution_count": 16,
   "metadata": {},
   "outputs": [],
   "source": [
    "function loop(values, testFunc, updateFunc, bodyFunc) {\n",
    "    const newValues = [];\n",
    "    for (let value of values) {\n",
    "        if (!testFunc(value)) continue\n",
    "        bodyFunc(value);\n",
    "        newValues.push(updateFunc(value));\n",
    "    }\n",
    "    return newValues;\n",
    "}"
   ]
  },
  {
   "cell_type": "markdown",
   "metadata": {},
   "source": [
    "### Everything"
   ]
  },
  {
   "cell_type": "markdown",
   "metadata": {},
   "source": [
    "Analogous to the some method, arrays also have an every method. This one\n",
    "returns true when the given function returns true for every element in the array.\n",
    "In a way, some is a version of the || operator that acts on arrays, and every is\n",
    "like the && operator.\n",
    "\n",
    "Implement every as a function that takes an array and a predicate function\n",
    "as parameters. Write two versions, one using a loop and one using the some\n",
    "method."
   ]
  },
  {
   "cell_type": "code",
   "execution_count": 7,
   "metadata": {},
   "outputs": [],
   "source": [
    "function everyUsingLoop(array, func) {\n",
    "    for (let value of array) {\n",
    "        if (!func(value)) {\n",
    "            return false;\n",
    "        }\n",
    "    }\n",
    "    return true;\n",
    "}"
   ]
  },
  {
   "cell_type": "code",
   "execution_count": 8,
   "metadata": {},
   "outputs": [],
   "source": [
    "function everyUsingSome(array, func) {\n",
    "    return !array.some((value) => !func(value));\n",
    "}"
   ]
  },
  {
   "cell_type": "code",
   "execution_count": 9,
   "metadata": {},
   "outputs": [],
   "source": [
    "const isEven = (value) => value % 2 === 0;"
   ]
  },
  {
   "cell_type": "code",
   "execution_count": 10,
   "metadata": {},
   "outputs": [],
   "source": [
    "let trueArray = [4, 8, 20, 36, 92];"
   ]
  },
  {
   "cell_type": "code",
   "execution_count": 11,
   "metadata": {},
   "outputs": [],
   "source": [
    "let falseArray = [4, 8, 21, 36, 92];"
   ]
  },
  {
   "cell_type": "code",
   "execution_count": 12,
   "metadata": {},
   "outputs": [
    {
     "data": {
      "text/plain": [
       "true"
      ]
     },
     "execution_count": 12,
     "metadata": {},
     "output_type": "execute_result"
    }
   ],
   "source": [
    "everyUsingLoop(trueArray, isEven);"
   ]
  },
  {
   "cell_type": "code",
   "execution_count": 13,
   "metadata": {},
   "outputs": [
    {
     "data": {
      "text/plain": [
       "false"
      ]
     },
     "execution_count": 13,
     "metadata": {},
     "output_type": "execute_result"
    }
   ],
   "source": [
    "everyUsingLoop(falseArray, isEven);"
   ]
  },
  {
   "cell_type": "code",
   "execution_count": 14,
   "metadata": {},
   "outputs": [
    {
     "data": {
      "text/plain": [
       "true"
      ]
     },
     "execution_count": 14,
     "metadata": {},
     "output_type": "execute_result"
    }
   ],
   "source": [
    "everyUsingSome(trueArray, isEven);"
   ]
  },
  {
   "cell_type": "code",
   "execution_count": 15,
   "metadata": {},
   "outputs": [
    {
     "data": {
      "text/plain": [
       "false"
      ]
     },
     "execution_count": 15,
     "metadata": {},
     "output_type": "execute_result"
    }
   ],
   "source": [
    "everyUsingSome(falseArray, isEven);"
   ]
  },
  {
   "cell_type": "markdown",
   "metadata": {},
   "source": [
    "### Dominant Writing Direction"
   ]
  },
  {
   "cell_type": "markdown",
   "metadata": {},
   "source": [
    "Write a function that computes the dominant writing direction in a string of\n",
    "text. Remember that each script object has a direction property that can be\n",
    "\"ltr\" (left to right), \"rtl\" (right to left), or \"ttb\" (top to bottom).\n",
    "The dominant direction is the direction of a majority of the characters that\n",
    "have a script associated with them. The characterScript and countBy functions\n",
    "defined earlier in the chapter are probably useful here."
   ]
  },
  {
   "cell_type": "code",
   "execution_count": 1,
   "metadata": {},
   "outputs": [],
   "source": [
    "const SCRIPTS = require('./scripts.js');"
   ]
  },
  {
   "cell_type": "code",
   "execution_count": 3,
   "metadata": {},
   "outputs": [],
   "source": [
    "function dominantWritingDirection(text) {\n",
    "    const directionCounts = getWritingDirections(text);\n",
    "    const total = Object.values(directionCounts).reduce((sum, num) => sum + num);\n",
    "    for (let direction of Object.keys(directionCounts)) {\n",
    "        if (directionCounts[direction] / total >= 0.5) {\n",
    "            return direction;\n",
    "        }\n",
    "    }\n",
    "    return null;\n",
    "}\n",
    "\n",
    "function getWritingDirections(text) {\n",
    "    const directions = { ltr: 0, rtl: 0, ttb: 0 };\n",
    "    \n",
    "    for (let char of text) {\n",
    "        const script = characterScript(char.codePointAt(0));\n",
    "        if (script && script.direction) {\n",
    "            directions[script.direction] += 1;\n",
    "        }\n",
    "    }\n",
    "    return directions;\n",
    "}"
   ]
  },
  {
   "cell_type": "code",
   "execution_count": 4,
   "metadata": {},
   "outputs": [],
   "source": [
    "// copied from Eloquent JavaScript book\n",
    "function characterScript(code) {\n",
    "    for (let script of SCRIPTS) {\n",
    "        if (script.ranges.some(([from, to]) => {\n",
    "            return code >= from && code < to;\n",
    "        })) {\n",
    "            return script;\n",
    "        }\n",
    "    }\n",
    "    return null;\n",
    "}"
   ]
  },
  {
   "cell_type": "code",
   "execution_count": 5,
   "metadata": {},
   "outputs": [],
   "source": [
    "let sampleText = '英国的狗说\"woof\", 俄罗斯的狗说\"тяв\"'"
   ]
  },
  {
   "cell_type": "code",
   "execution_count": 6,
   "metadata": {},
   "outputs": [
    {
     "data": {
      "text/plain": [
       "'ltr'"
      ]
     },
     "execution_count": 6,
     "metadata": {},
     "output_type": "execute_result"
    }
   ],
   "source": [
    "dominantWritingDirection(sampleText);"
   ]
  }
 ],
 "metadata": {
  "kernelspec": {
   "display_name": "Javascript (Node.js)",
   "language": "javascript",
   "name": "javascript"
  },
  "language_info": {
   "file_extension": ".js",
   "mimetype": "application/javascript",
   "name": "javascript",
   "version": "12.18.2"
  }
 },
 "nbformat": 4,
 "nbformat_minor": 2
}
